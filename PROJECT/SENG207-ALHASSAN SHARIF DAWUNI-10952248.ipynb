{
 "cells": [
  {
   "cell_type": "markdown",
   "id": "67d9910e",
   "metadata": {},
   "source": [
    "## SENG 207 PROJECT ONE\n",
    "## ALHASSAN SHARIF DAWUNI\n",
    "## ID- 10952248\n",
    "\n",
    "\n",
    "\n",
    "### Importing python libraries\n",
    "\n",
    "---"
   ]
  },
  {
   "cell_type": "code",
   "execution_count": 3,
   "id": "2db180a4",
   "metadata": {},
   "outputs": [
    {
     "ename": "ModuleNotFoundError",
     "evalue": "No module named 'ydata_profiling'",
     "output_type": "error",
     "traceback": [
      "\u001b[1;31m---------------------------------------------------------------------------\u001b[0m",
      "\u001b[1;31mModuleNotFoundError\u001b[0m                       Traceback (most recent call last)",
      "Cell \u001b[1;32mIn[3], line 5\u001b[0m\n\u001b[0;32m      3\u001b[0m \u001b[38;5;28;01mimport\u001b[39;00m \u001b[38;5;21;01mmatplotlib\u001b[39;00m\u001b[38;5;21;01m.\u001b[39;00m\u001b[38;5;21;01mpylab\u001b[39;00m \u001b[38;5;28;01mas\u001b[39;00m \u001b[38;5;21;01mplt\u001b[39;00m\n\u001b[0;32m      4\u001b[0m \u001b[38;5;28;01mimport\u001b[39;00m \u001b[38;5;21;01mseaborn\u001b[39;00m \u001b[38;5;28;01mas\u001b[39;00m \u001b[38;5;21;01msns\u001b[39;00m\n\u001b[1;32m----> 5\u001b[0m \u001b[38;5;28;01mfrom\u001b[39;00m \u001b[38;5;21;01mydata_profiling\u001b[39;00m \u001b[38;5;28;01mimport\u001b[39;00m ProfileReport\n",
      "\u001b[1;31mModuleNotFoundError\u001b[0m: No module named 'ydata_profiling'"
     ]
    }
   ],
   "source": [
    "import pandas as pd\n",
    "import numpy as np\n",
    "import matplotlib.pylab as plt\n",
    "import seaborn as sns\n",
    "from ydata_profiling import ProfileReport\n"
   ]
  },
  {
   "cell_type": "markdown",
   "id": "21901b7e",
   "metadata": {},
   "source": [
    "### Importing the csv file \n",
    "---"
   ]
  },
  {
   "cell_type": "code",
   "execution_count": null,
   "id": "610258f7",
   "metadata": {},
   "outputs": [],
   "source": [
    "df = pd.read_csv(\"data.csv\")\n",
    "\n"
   ]
  },
  {
   "cell_type": "markdown",
   "id": "439ab9e9",
   "metadata": {},
   "source": [
    "### CHANCING THE DATA TO UPPER CASE LETTERS\n",
    "---"
   ]
  },
  {
   "cell_type": "code",
   "execution_count": null,
   "id": "0c632bb1",
   "metadata": {},
   "outputs": [],
   "source": [
    "df.rename(columns={'ID':'BEVERAGES'},inplace=True)"
   ]
  },
  {
   "cell_type": "markdown",
   "id": "c3744432",
   "metadata": {},
   "source": [
    "## Changing words to block letters"
   ]
  },
  {
   "cell_type": "code",
   "execution_count": null,
   "id": "6d8c072e",
   "metadata": {},
   "outputs": [],
   "source": [
    "df.columns =[words.upper() for words in df.columns]"
   ]
  },
  {
   "cell_type": "markdown",
   "id": "b5a79f75",
   "metadata": {},
   "source": [
    "### PLACING UNDER SCORES ON DOUBLE WORDED DATA\n",
    "---"
   ]
  },
  {
   "cell_type": "code",
   "execution_count": null,
   "id": "1134d768",
   "metadata": {},
   "outputs": [],
   "source": [
    "df.columns=df.columns.str.replace(' ','_') "
   ]
  },
  {
   "cell_type": "code",
   "execution_count": null,
   "id": "8150d6e3",
   "metadata": {},
   "outputs": [],
   "source": [
    "df.head()"
   ]
  },
  {
   "cell_type": "markdown",
   "id": "80eb5778",
   "metadata": {},
   "source": [
    "## Empty set Identification\n",
    "---"
   ]
  },
  {
   "cell_type": "code",
   "execution_count": null,
   "id": "40d8a4f9",
   "metadata": {},
   "outputs": [],
   "source": [
    "df.isnull()"
   ]
  },
  {
   "cell_type": "markdown",
   "id": "0a1f4119",
   "metadata": {},
   "source": [
    " ## Identifying the data types for the dataset\n",
    "---"
   ]
  },
  {
   "cell_type": "code",
   "execution_count": null,
   "id": "7ce79575",
   "metadata": {},
   "outputs": [],
   "source": [
    "df.dtypes"
   ]
  },
  {
   "cell_type": "markdown",
   "id": "3a1597d1",
   "metadata": {},
   "source": [
    "## Sum of null entries\n",
    "---"
   ]
  },
  {
   "cell_type": "code",
   "execution_count": null,
   "id": "d133f5bd",
   "metadata": {},
   "outputs": [],
   "source": [
    "df.isna().sum()"
   ]
  },
  {
   "cell_type": "markdown",
   "id": "80102edf",
   "metadata": {},
   "source": [
    "## checking duplicates\n",
    "---"
   ]
  },
  {
   "cell_type": "code",
   "execution_count": null,
   "id": "a9bec846",
   "metadata": {},
   "outputs": [],
   "source": [
    "df.loc[df.duplicated()]\n",
    "df.duplicated().sum()"
   ]
  },
  {
   "cell_type": "code",
   "execution_count": null,
   "id": "5e0bee69",
   "metadata": {},
   "outputs": [],
   "source": [
    "df.info()"
   ]
  },
  {
   "cell_type": "markdown",
   "id": "91d306d2",
   "metadata": {},
   "source": [
    "## Calculating the mean values of the empty cells in the dataset\n",
    "---\n",
    "## The mean is preferred because it gives concise values hence increasing its accuracy. \n",
    "---"
   ]
  },
  {
   "cell_type": "code",
   "execution_count": null,
   "id": "c14d3d93",
   "metadata": {},
   "outputs": [],
   "source": [
    "\n",
    "\n",
    "mean_FA=df['FIXED_ACIDITY'].mean()\n",
    "mean_CA=df['CITRIC_ACID'].mean()\n",
    "mean_CH=df['CHLORIDES'].mean()\n",
    "mean_PH=df['PH'].mean()\n",
    "mean_Q=df['QUALITY'].mean()\n",
    "mean_D=df['DENSITY'].mean()\n",
    "mean_TSD=df['TOTAL_SULFUR_DIOXIDE'].mean()\n",
    "mean_FSD=df['FREE_SULFUR_DIOXIDE'].mean()\n",
    "\n",
    "\n",
    "\n"
   ]
  },
  {
   "cell_type": "code",
   "execution_count": null,
   "id": "804c9c35",
   "metadata": {},
   "outputs": [],
   "source": [
    "print(f'FREE_SULFUR_DIOXIDE: {mean_FSD}')\n",
    "print(f'TOTAL_SULFUR_DIOXIDE: {mean_TSD}')\n",
    "print(f'DENSITY: {mean_D}')\n",
    "print(f'QUALITY: {mean_Q}')\n",
    "print(f'PH: {mean_PH}')\n",
    "print(f'CHLORIDES: {mean_CH}')\n",
    "print(f'CITRIC_ACID: {mean_CA}')\n",
    "print(f'FIXED_ACIDITY: {mean_FA}')\n",
    "\n",
    "\n"
   ]
  },
  {
   "cell_type": "markdown",
   "id": "8795ea7b",
   "metadata": {},
   "source": [
    "### Filling in the null values with thier respective mean \n",
    "---"
   ]
  },
  {
   "cell_type": "code",
   "execution_count": null,
   "id": "bd4c4252",
   "metadata": {},
   "outputs": [],
   "source": [
    "df['FIXED_ACIDITY']=df['FIXED_ACIDITY'].fillna(mean_FA)\n",
    "df['CITRIC_ACID']=df['CITRIC_ACID'].fillna(mean_CA)\n",
    "df['CHLORIDES']=df['CHLORIDES'].fillna(mean_CH)\n",
    "df['PH']=df['PH'].fillna(mean_PH)\n",
    "df['QUALITY']=df['QUALITY'].fillna(mean_Q)\n",
    "df['DENSITY']=df['DENSITY'].fillna(mean_D)\n",
    "df['TOTAL_SULFUR_DIOXIDE']=df['TOTAL_SULFUR_DIOXIDE'].fillna(mean_TSD)\n",
    "df['FREE_SULFUR_DIOXIDE']=df['FREE_SULFUR_DIOXIDE'].fillna(mean_FSD)"
   ]
  },
  {
   "cell_type": "code",
   "execution_count": null,
   "id": "70c74d04",
   "metadata": {},
   "outputs": [],
   "source": [
    "df.info()"
   ]
  },
  {
   "cell_type": "code",
   "execution_count": null,
   "id": "e06746df",
   "metadata": {},
   "outputs": [],
   "source": [
    "df"
   ]
  },
  {
   "cell_type": "markdown",
   "id": "9ff00185",
   "metadata": {},
   "source": [
    "### checking sum of null rows again.\n",
    "---"
   ]
  },
  {
   "cell_type": "code",
   "execution_count": null,
   "id": "5a2ca897",
   "metadata": {},
   "outputs": [],
   "source": [
    "df.isna().sum()"
   ]
  },
  {
   "cell_type": "markdown",
   "id": "17352058",
   "metadata": {},
   "source": [
    "### How to drop empty rows\n",
    "---"
   ]
  },
  {
   "cell_type": "code",
   "execution_count": null,
   "id": "58c0fc79",
   "metadata": {},
   "outputs": [],
   "source": [
    "df_drop_empty=df.dropna()"
   ]
  },
  {
   "cell_type": "markdown",
   "id": "58313edb",
   "metadata": {},
   "source": [
    " ### Looking for duplicates counts in a named column in descending order\n",
    " ---"
   ]
  },
  {
   "cell_type": "code",
   "execution_count": null,
   "id": "f3a6e5d7",
   "metadata": {},
   "outputs": [],
   "source": [
    "df['FIXED_ACIDITY'].value_counts()"
   ]
  },
  {
   "cell_type": "markdown",
   "id": "609a58ee",
   "metadata": {},
   "source": [
    "## Statistical overview of the dataset\n",
    "---\n",
    "---\n",
    "1. **Bar chats**\n",
    "2. **Histogram**\n",
    "3. **Profiile Report**\n"
   ]
  },
  {
   "cell_type": "markdown",
   "id": "40bf6e6d",
   "metadata": {},
   "source": [
    "### BAR CHAT\n",
    "\n",
    "---\n",
    "#### This is a bar chat for the first 20 Beverages, showing how the PH varies among them."
   ]
  },
  {
   "cell_type": "code",
   "execution_count": null,
   "id": "14a66630",
   "metadata": {},
   "outputs": [],
   "source": [
    "ax=df['PH'].value_counts()\\\n",
    "    .head(20).plot(kind='bar',title='PH VALUES OF THE BEVERAGES'\n",
    "               )\n",
    "ax.set_ylabel('PH VALUE')\n",
    "ax.set_xlabel('BEVERAGES')\n",
    "\n",
    "\n",
    "plt.show()\n"
   ]
  },
  {
   "cell_type": "markdown",
   "id": "a56f4187",
   "metadata": {},
   "source": [
    "### HISTOGRAM PLOT\n",
    "\n",
    "---"
   ]
  },
  {
   "cell_type": "markdown",
   "id": "589d7793",
   "metadata": {},
   "source": [
    "### Comparing Beverages with their Quality."
   ]
  },
  {
   "cell_type": "code",
   "execution_count": null,
   "id": "94abc97b",
   "metadata": {
    "scrolled": true
   },
   "outputs": [],
   "source": [
    "ay=df['QUALITY'].plot(kind='hist',bins=20,title=' BEVERAGES VS QUALITY  ')\n",
    "\n",
    "ay.set_xlabel('BEVERAGES ')\n",
    "ay.set_ylabel('QUALITY')\n",
    "plt.show()"
   ]
  },
  {
   "cell_type": "markdown",
   "id": "680d648c",
   "metadata": {},
   "source": [
    "### using seabon to show the correlation between the Beverages and their PH\n",
    "---\n",
    "\n",
    "\n"
   ]
  },
  {
   "cell_type": "code",
   "execution_count": null,
   "id": "bf351170",
   "metadata": {},
   "outputs": [],
   "source": []
  },
  {
   "cell_type": "code",
   "execution_count": null,
   "id": "f8bb4e6a",
   "metadata": {
    "scrolled": true
   },
   "outputs": [],
   "source": [
    "df_corr=df[['BEVERAGES','FIXED_ACIDITY', 'VOLATILE_ACIDITY', 'CITRIC_ACID', 'RESIDUAL_SUGAR',\n",
    "       'CHLORIDES', 'FREE_SULFUR_DIOXIDE', 'TOTAL_SULFUR_DIOXIDE', 'DENSITY',\n",
    "       'PH', 'SULPHATES', 'ALCOHOL', 'QUALITY']].dropna().corr()"
   ]
  },
  {
   "cell_type": "code",
   "execution_count": null,
   "id": "df22aa23",
   "metadata": {},
   "outputs": [],
   "source": [
    "sns.heatmap(df_corr, annot=True)"
   ]
  },
  {
   "cell_type": "markdown",
   "id": "daaf51c4",
   "metadata": {},
   "source": [
    "### Describing the set of parameters\n",
    "---"
   ]
  },
  {
   "cell_type": "code",
   "execution_count": null,
   "id": "2383a852",
   "metadata": {},
   "outputs": [],
   "source": [
    "df.describe()"
   ]
  },
  {
   "cell_type": "code",
   "execution_count": 2,
   "id": "2989ceff",
   "metadata": {},
   "outputs": [
    {
     "ename": "NameError",
     "evalue": "name 'ProfileReport' is not defined",
     "output_type": "error",
     "traceback": [
      "\u001b[1;31m---------------------------------------------------------------------------\u001b[0m",
      "\u001b[1;31mNameError\u001b[0m                                 Traceback (most recent call last)",
      "Cell \u001b[1;32mIn[2], line 1\u001b[0m\n\u001b[1;32m----> 1\u001b[0m profile \u001b[38;5;241m=\u001b[39m \u001b[43mProfileReport\u001b[49m(df, title\u001b[38;5;241m=\u001b[39m\u001b[38;5;124m\"\u001b[39m\u001b[38;5;124mProfiling Report\u001b[39m\u001b[38;5;124m\"\u001b[39m)\n",
      "\u001b[1;31mNameError\u001b[0m: name 'ProfileReport' is not defined"
     ]
    }
   ],
   "source": [
    "profile = ProfileReport(df, title=\"Profiling Report\")\n"
   ]
  },
  {
   "cell_type": "code",
   "execution_count": null,
   "id": "84b71cc6",
   "metadata": {},
   "outputs": [],
   "source": [
    "profile.to_widgets()"
   ]
  },
  {
   "cell_type": "code",
   "execution_count": null,
   "id": "cc4c582b",
   "metadata": {
    "scrolled": true
   },
   "outputs": [],
   "source": [
    "profile.to_notebook_iframe()"
   ]
  },
  {
   "cell_type": "code",
   "execution_count": null,
   "id": "a4e026a8",
   "metadata": {},
   "outputs": [],
   "source": []
  },
  {
   "cell_type": "code",
   "execution_count": null,
   "id": "1f08d9ba",
   "metadata": {},
   "outputs": [],
   "source": []
  },
  {
   "cell_type": "code",
   "execution_count": null,
   "id": "778ff8c3",
   "metadata": {},
   "outputs": [],
   "source": []
  }
 ],
 "metadata": {
  "kernelspec": {
   "display_name": "Python 3 (ipykernel)",
   "language": "python",
   "name": "python3"
  },
  "language_info": {
   "codemirror_mode": {
    "name": "ipython",
    "version": 3
   },
   "file_extension": ".py",
   "mimetype": "text/x-python",
   "name": "python",
   "nbconvert_exporter": "python",
   "pygments_lexer": "ipython3",
   "version": "3.11.1"
  }
 },
 "nbformat": 4,
 "nbformat_minor": 5
}
